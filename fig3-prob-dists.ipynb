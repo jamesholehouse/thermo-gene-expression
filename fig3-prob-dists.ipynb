{
 "cells": [
  {
   "cell_type": "markdown",
   "id": "a014e124",
   "metadata": {},
   "source": [
    "# Plot the probability distributions"
   ]
  },
  {
   "cell_type": "code",
   "execution_count": 1,
   "id": "7640d682",
   "metadata": {},
   "outputs": [],
   "source": [
    "# import all the relevant packages.\n",
    "using Plots, LaTeXStrings, Distributions, DoubleFloats, Plots.PlotMeasures, LinearAlgebra, DataFrames, CSV\n",
    "Plots.theme(:dao)"
   ]
  },
  {
   "cell_type": "code",
   "execution_count": 2,
   "id": "c3a1ab18",
   "metadata": {},
   "outputs": [
    {
     "data": {
      "image/svg+xml": [
       "<?xml version=\"1.0\" encoding=\"UTF-8\"?>\n",
       "<!DOCTYPE svg PUBLIC \"-//W3C//DTD SVG 1.1//EN\"\n",
       " \"http://www.w3.org/Graphics/SVG/1.1/DTD/svg11.dtd\">\n",
       "<svg xmlns=\"http://www.w3.org/2000/svg\" version=\"1.1\"\n",
       "     width=\"180mm\" height=\"25mm\" viewBox=\"0 0 10 1\" stroke=\"none\"\n",
       "     preserveAspectRatio=\"none\" shape-rendering=\"crispEdges\">\n",
       "<defs>\n",
       "    <pattern id=\"pat_1wX4oB\" width=\".2\" height=\".2\"\n",
       "             patternUnits=\"userSpaceOnUse\" patternTransform=\"scale(1.389,1)\" >\n",
       "        <path d=\"M.1,0h.1v.1h-.2v.1h.1z\" fill=\"#999\" opacity=\".5\" />\n",
       "    </pattern>\n",
       "</defs>\n",
       "<rect width=\"10\" height=\"1\" fill=\"url(#pat_1wX4oB)\" />\n",
       "<path d=\"M1,.14V1h-1V.86z\" fill=\"#77AADA\" />\n",
       "<path d=\"M0,0h1v1h-1z\" fill=\"#77AADA\" fill-opacity=\"1\" />\n",
       "<path d=\"M2,.14V1h-1V.86z\" fill=\"#5FB8BB\" />\n",
       "<path d=\"M1,0h1v1h-1z\" fill=\"#5FB8BB\" fill-opacity=\"1\" />\n",
       "<path d=\"M3,.14V1h-1V.86z\" fill=\"#309670\" />\n",
       "<path d=\"M2,0h1v1h-1z\" fill=\"#309670\" fill-opacity=\"1\" />\n",
       "<path d=\"M4,.14V1h-1V.86z\" fill=\"#2C7E33\" />\n",
       "<path d=\"M3,0h1v1h-1z\" fill=\"#2C7E33\" fill-opacity=\"1\" />\n",
       "<path d=\"M5,.14V1h-1V.86z\" fill=\"#999933\" />\n",
       "<path d=\"M4,0h1v1h-1z\" fill=\"#999933\" fill-opacity=\"1\" />\n",
       "<path d=\"M6,.14V1h-1V.86z\" fill=\"#CFC269\" />\n",
       "<path d=\"M5,0h1v1h-1z\" fill=\"#CFC269\" fill-opacity=\"1\" />\n",
       "<path d=\"M7,.14V1h-1V.86z\" fill=\"#D38F77\" />\n",
       "<path d=\"M6,0h1v1h-1z\" fill=\"#D38F77\" fill-opacity=\"1\" />\n",
       "<path d=\"M8,.14V1h-1V.86z\" fill=\"#B14B69\" />\n",
       "<path d=\"M7,0h1v1h-1z\" fill=\"#B14B69\" fill-opacity=\"1\" />\n",
       "<path d=\"M9,.14V1h-1V.86z\" fill=\"#8F2963\" />\n",
       "<path d=\"M8,0h1v1h-1z\" fill=\"#8F2963\" fill-opacity=\"1\" />\n",
       "<path d=\"M10,.14V1h-1V.86z\" fill=\"#AA4499\" />\n",
       "<path d=\"M9,0h1v1h-1z\" fill=\"#AA4499\" fill-opacity=\"1\" />\n",
       "</svg>"
      ],
      "text/plain": [
       "10-element Array{RGBA{Float64},1} with eltype RGBA{Float64}:\n",
       " RGBA{Float64}(0.4666666666666667,0.6666666666666667,0.8533333333333334,1.0)\n",
       " RGBA{Float64}(0.3733333333333333,0.72,0.7333333333333333,1.0)\n",
       " RGBA{Float64}(0.1866666666666667,0.5866666666666667,0.44000000000000006,1.0)\n",
       " RGBA{Float64}(0.17333333333333342,0.49333333333333335,0.2,1.0)\n",
       " RGBA{Float64}(0.6,0.6,0.2,1.0)\n",
       " RGBA{Float64}(0.8133333333333334,0.76,0.4133333333333333,1.0)\n",
       " RGBA{Float64}(0.8266666666666668,0.5600000000000002,0.4666666666666667,1.0)\n",
       " RGBA{Float64}(0.6933333333333332,0.2933333333333333,0.41333333333333333,1.0)\n",
       " RGBA{Float64}(0.5599999999999998,0.1599999999999999,0.38666666666666644,1.0)\n",
       " RGBA{Float64}(0.6666666666666666,0.26666666666666666,0.6,1.0)"
      ]
     },
     "execution_count": 2,
     "metadata": {},
     "output_type": "execute_result"
    }
   ],
   "source": [
    "pal = cgrad(:tol_muted);\n",
    "cpal = [pal[i] for i in 0.1:0.1:1.0]"
   ]
  },
  {
   "cell_type": "code",
   "execution_count": 3,
   "id": "0dd50b7d",
   "metadata": {},
   "outputs": [],
   "source": [
    "p0_data = CSV.read(\"./p0vals-fig3.csv\", DataFrame, header = false)\n",
    "p1_data = CSV.read(\"./p1vals-fig3.csv\", DataFrame, header = false)\n",
    "p_data = CSV.read(\"./pvals-fig3.csv\", DataFrame, header = false);"
   ]
  },
  {
   "cell_type": "code",
   "execution_count": 4,
   "id": "0e944825",
   "metadata": {},
   "outputs": [],
   "source": [
    "p0 = map(x -> parse(Float64, x), p0_data[:,2][2:end])\n",
    "p1 = map(x -> parse(Float64, x), p1_data[:,2][2:end])\n",
    "p = map(x -> parse(Float64, x), p_data[:,2][2:end])\n",
    "xvals = collect(0:length(p)-1);"
   ]
  },
  {
   "cell_type": "code",
   "execution_count": 5,
   "id": "1d1a61af",
   "metadata": {},
   "outputs": [],
   "source": [
    "default(xguidefontsize=12, yguidefontsize=12, titlefontsize=14)"
   ]
  },
  {
   "cell_type": "code",
   "execution_count": 7,
   "id": "3d8e021d",
   "metadata": {},
   "outputs": [
    {
     "data": {
      "text/plain": [
       "\"/home/jamesh/GitHub/thermo-gene-expression/fig3-probdists.pdf\""
      ]
     },
     "execution_count": 7,
     "metadata": {},
     "output_type": "execute_result"
    }
   ],
   "source": [
    "plot(grid = false, minorgrid = false, legend = :topright, size = (450,250), xlabel = L\"$n$\", legendfontsize = 12,\n",
    "xtickfontsize = 12, ytickfontsize = 12, xlabelfontsize = 18)\n",
    "plot!(xvals,p0, fill = true, fillalpha = 0.5, color = cpal[1], label = L\"P_0(n)\")\n",
    "plot!(xvals,p1, fill = true, fillalpha = 0.5, color = cpal[8], label = L\"P_1(n)\")\n",
    "plot!(xvals,p, color = :black, label = L\"P(n)\")\n",
    "savefig(\"./fig3-probdists.pdf\")"
   ]
  },
  {
   "cell_type": "code",
   "execution_count": null,
   "id": "4990dfbe",
   "metadata": {},
   "outputs": [],
   "source": []
  }
 ],
 "metadata": {
  "kernelspec": {
   "display_name": "Julia 1.8.5",
   "language": "julia",
   "name": "julia-1.8"
  },
  "language_info": {
   "file_extension": ".jl",
   "mimetype": "application/julia",
   "name": "julia",
   "version": "1.8.5"
  }
 },
 "nbformat": 4,
 "nbformat_minor": 5
}
